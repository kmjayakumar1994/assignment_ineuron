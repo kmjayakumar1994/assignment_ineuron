{
 "cells": [
  {
   "cell_type": "code",
   "execution_count": null,
   "id": "62e8989a",
   "metadata": {},
   "outputs": [],
   "source": [
    "1) What exactly is []?"
   ]
  },
  {
   "cell_type": "code",
   "execution_count": null,
   "id": "fa99ed70",
   "metadata": {},
   "outputs": [],
   "source": [
    "[] is a list in python, it can be any number of elements they may be a different types, like interger, float, string, etc. \n",
    "A list could contain another list in inside of it. \n",
    "Python indices, starts from 0 to number of indexes.\n",
    "List could be a negative indexing also, in negative index, -1 is starting index value, it indicates the last item of list,\n",
    "-2 is second index value from list second last element.\n",
    "we can perform, slicing, addition of elements, and deletion of elements and more."
   ]
  },
  {
   "cell_type": "code",
   "execution_count": 2,
   "id": "31a11b38",
   "metadata": {},
   "outputs": [
    {
     "data": {
      "text/plain": [
       "[1, 2, 3, 'a', 'b', [1, 2, 3, 3, 44]]"
      ]
     },
     "execution_count": 2,
     "metadata": {},
     "output_type": "execute_result"
    }
   ],
   "source": [
    "a = [1,2,3,'a','b',[1,2,3,3,44]]\n",
    "a"
   ]
  },
  {
   "cell_type": "code",
   "execution_count": 3,
   "id": "da02d168",
   "metadata": {},
   "outputs": [
    {
     "data": {
      "text/plain": [
       "1"
      ]
     },
     "execution_count": 3,
     "metadata": {},
     "output_type": "execute_result"
    }
   ],
   "source": [
    "a[0]"
   ]
  },
  {
   "cell_type": "code",
   "execution_count": 4,
   "id": "49d3ff7f",
   "metadata": {},
   "outputs": [
    {
     "data": {
      "text/plain": [
       "[1, 2, 3, 3, 44]"
      ]
     },
     "execution_count": 4,
     "metadata": {},
     "output_type": "execute_result"
    }
   ],
   "source": [
    "a[-1]"
   ]
  },
  {
   "cell_type": "code",
   "execution_count": 5,
   "id": "e2d4849e",
   "metadata": {},
   "outputs": [
    {
     "data": {
      "text/plain": [
       "44"
      ]
     },
     "execution_count": 5,
     "metadata": {},
     "output_type": "execute_result"
    }
   ],
   "source": [
    "a[-1][-1]"
   ]
  },
  {
   "cell_type": "code",
   "execution_count": null,
   "id": "22fecb63",
   "metadata": {},
   "outputs": [],
   "source": []
  },
  {
   "cell_type": "code",
   "execution_count": null,
   "id": "58d78997",
   "metadata": {},
   "outputs": [],
   "source": [
    "2) In a list of values stored in a variable called spam, how would you assign the value 'hello' as the third value? \n",
    "(Assume [2, 4, 6, 8, 10] are in spam.)\n",
    "\n",
    "Let's pretend the spam includes the list ['a', 'b', 'c', 'd'] for the next three queries."
   ]
  },
  {
   "cell_type": "code",
   "execution_count": 10,
   "id": "994837c6",
   "metadata": {},
   "outputs": [],
   "source": [
    "spam = [2, 4, 6, 8, 10]"
   ]
  },
  {
   "cell_type": "code",
   "execution_count": 11,
   "id": "1d00bf7c",
   "metadata": {},
   "outputs": [],
   "source": [
    "spam[2] = 'hello'"
   ]
  },
  {
   "cell_type": "code",
   "execution_count": 12,
   "id": "5faa9a84",
   "metadata": {},
   "outputs": [
    {
     "data": {
      "text/plain": [
       "[2, 4, 'hello', 8, 10]"
      ]
     },
     "execution_count": 12,
     "metadata": {},
     "output_type": "execute_result"
    }
   ],
   "source": [
    "spam"
   ]
  },
  {
   "cell_type": "code",
   "execution_count": null,
   "id": "2f3d468a",
   "metadata": {},
   "outputs": [],
   "source": []
  },
  {
   "cell_type": "code",
   "execution_count": null,
   "id": "3ba82262",
   "metadata": {},
   "outputs": [],
   "source": [
    "3) What is the value of spam[int(int('3' * 2) / 11)]?"
   ]
  },
  {
   "cell_type": "code",
   "execution_count": 18,
   "id": "505f1b0a",
   "metadata": {},
   "outputs": [
    {
     "data": {
      "text/plain": [
       "8"
      ]
     },
     "execution_count": 18,
     "metadata": {},
     "output_type": "execute_result"
    }
   ],
   "source": [
    "spam[int(int('3' * 2) / 11)]"
   ]
  },
  {
   "cell_type": "code",
   "execution_count": null,
   "id": "8e2d066e",
   "metadata": {},
   "outputs": [],
   "source": [
    "4) What is the value of spam[-1]?"
   ]
  },
  {
   "cell_type": "code",
   "execution_count": 19,
   "id": "0d445377",
   "metadata": {},
   "outputs": [
    {
     "data": {
      "text/plain": [
       "10"
      ]
     },
     "execution_count": 19,
     "metadata": {},
     "output_type": "execute_result"
    }
   ],
   "source": [
    "spam[-1]"
   ]
  },
  {
   "cell_type": "code",
   "execution_count": null,
   "id": "1794de14",
   "metadata": {},
   "outputs": [],
   "source": [
    "5) What is the value of spam[:2]?"
   ]
  },
  {
   "cell_type": "code",
   "execution_count": 20,
   "id": "be9af455",
   "metadata": {},
   "outputs": [
    {
     "data": {
      "text/plain": [
       "[2, 4]"
      ]
     },
     "execution_count": 20,
     "metadata": {},
     "output_type": "execute_result"
    }
   ],
   "source": [
    "spam[:2]"
   ]
  },
  {
   "cell_type": "code",
   "execution_count": null,
   "id": "e4d44b93",
   "metadata": {},
   "outputs": [],
   "source": [
    "Let's pretend bacon has the list [3.14, 'cat,' 11, 'cat,' True] for the next three questions."
   ]
  },
  {
   "cell_type": "code",
   "execution_count": 23,
   "id": "259a0657",
   "metadata": {},
   "outputs": [],
   "source": [
    "bacon = [3.14, 'cat', 11, 'cat', True]"
   ]
  },
  {
   "cell_type": "code",
   "execution_count": null,
   "id": "9cba8521",
   "metadata": {},
   "outputs": [],
   "source": [
    "6) What is the value of bacon.index('cat')?"
   ]
  },
  {
   "cell_type": "code",
   "execution_count": 24,
   "id": "1f605a5a",
   "metadata": {},
   "outputs": [
    {
     "data": {
      "text/plain": [
       "1"
      ]
     },
     "execution_count": 24,
     "metadata": {},
     "output_type": "execute_result"
    }
   ],
   "source": [
    "bacon.index('cat')"
   ]
  },
  {
   "cell_type": "code",
   "execution_count": null,
   "id": "15a2611b",
   "metadata": {},
   "outputs": [],
   "source": [
    "7) How does bacon.append(99) change the look of the list value in bacon?"
   ]
  },
  {
   "cell_type": "code",
   "execution_count": 25,
   "id": "20494125",
   "metadata": {},
   "outputs": [],
   "source": [
    "bacon.append(99)"
   ]
  },
  {
   "cell_type": "code",
   "execution_count": 27,
   "id": "d1b8af90",
   "metadata": {},
   "outputs": [
    {
     "data": {
      "text/plain": [
       "[3.14, 'cat', 11, 'cat', True, 99]"
      ]
     },
     "execution_count": 27,
     "metadata": {},
     "output_type": "execute_result"
    }
   ],
   "source": [
    "bacon"
   ]
  },
  {
   "cell_type": "code",
   "execution_count": null,
   "id": "26a9edd5",
   "metadata": {},
   "outputs": [],
   "source": [
    "8) How does bacon.remove('cat') change the look of the list in bacon?"
   ]
  },
  {
   "cell_type": "code",
   "execution_count": 28,
   "id": "fba1b1c4",
   "metadata": {},
   "outputs": [],
   "source": [
    "bacon.remove('cat')"
   ]
  },
  {
   "cell_type": "code",
   "execution_count": 29,
   "id": "ec3c3fca",
   "metadata": {},
   "outputs": [
    {
     "data": {
      "text/plain": [
       "[3.14, 11, 'cat', True, 99]"
      ]
     },
     "execution_count": 29,
     "metadata": {},
     "output_type": "execute_result"
    }
   ],
   "source": [
    "bacon\n",
    "#deleted the first 'cat' in the list"
   ]
  },
  {
   "cell_type": "code",
   "execution_count": null,
   "id": "1e8552a6",
   "metadata": {},
   "outputs": [],
   "source": [
    "9) What are the list concatenation and list replication operators?"
   ]
  },
  {
   "cell_type": "code",
   "execution_count": null,
   "id": "b67499c2",
   "metadata": {},
   "outputs": [],
   "source": [
    "list concatenation:\n",
    "    concatenating the two lists "
   ]
  },
  {
   "cell_type": "code",
   "execution_count": 31,
   "id": "6c019984",
   "metadata": {},
   "outputs": [],
   "source": [
    "a = [1,2,3]\n",
    "b = ['a']\n",
    "c = [11,22,33,44]\n",
    "d = [1, [112,113,114]]"
   ]
  },
  {
   "cell_type": "code",
   "execution_count": 37,
   "id": "bed6b29b",
   "metadata": {},
   "outputs": [],
   "source": [
    "p = a+b\n",
    "q = a+b+c\n",
    "r = a+b+c+d"
   ]
  },
  {
   "cell_type": "code",
   "execution_count": 34,
   "id": "3bd9a699",
   "metadata": {},
   "outputs": [
    {
     "data": {
      "text/plain": [
       "[1, 2, 3, 'a']"
      ]
     },
     "execution_count": 34,
     "metadata": {},
     "output_type": "execute_result"
    }
   ],
   "source": [
    "p"
   ]
  },
  {
   "cell_type": "code",
   "execution_count": 35,
   "id": "f716c89e",
   "metadata": {},
   "outputs": [
    {
     "data": {
      "text/plain": [
       "[1, 2, 3, 'a', 11, 22, 33, 44]"
      ]
     },
     "execution_count": 35,
     "metadata": {},
     "output_type": "execute_result"
    }
   ],
   "source": [
    "q"
   ]
  },
  {
   "cell_type": "code",
   "execution_count": 38,
   "id": "56632d8b",
   "metadata": {},
   "outputs": [
    {
     "data": {
      "text/plain": [
       "[1, 2, 3, 'a', 11, 22, 33, 44, 1, [112, 113, 114]]"
      ]
     },
     "execution_count": 38,
     "metadata": {},
     "output_type": "execute_result"
    }
   ],
   "source": [
    "r"
   ]
  },
  {
   "cell_type": "code",
   "execution_count": null,
   "id": "5b0a3e31",
   "metadata": {},
   "outputs": [],
   "source": []
  },
  {
   "cell_type": "code",
   "execution_count": null,
   "id": "54aa1ba2",
   "metadata": {},
   "outputs": [],
   "source": [
    "10) What is difference between the list methods append() and insert()?"
   ]
  },
  {
   "cell_type": "code",
   "execution_count": 13,
   "id": "e88cd988",
   "metadata": {},
   "outputs": [],
   "source": [
    "l = [1,2,3]\n",
    "l1 = l.append(4)\n",
    "#append will add the element in the end of the list"
   ]
  },
  {
   "cell_type": "code",
   "execution_count": 14,
   "id": "cce17fb9",
   "metadata": {},
   "outputs": [
    {
     "data": {
      "text/plain": [
       "[1, 2, 3, 4]"
      ]
     },
     "execution_count": 14,
     "metadata": {},
     "output_type": "execute_result"
    }
   ],
   "source": [
    "l"
   ]
  },
  {
   "cell_type": "code",
   "execution_count": 15,
   "id": "1fe9ffb4",
   "metadata": {},
   "outputs": [],
   "source": [
    "l3 = [111,222,333,444]"
   ]
  },
  {
   "cell_type": "code",
   "execution_count": 16,
   "id": "25b57045",
   "metadata": {},
   "outputs": [],
   "source": [
    "l2 = l3.insert(2,201)\n",
    "#for insert function, we have to specify the index number, to where we will going to add the element"
   ]
  },
  {
   "cell_type": "code",
   "execution_count": 18,
   "id": "0f2fd541",
   "metadata": {},
   "outputs": [
    {
     "data": {
      "text/plain": [
       "[111, 222, 201, 333, 444]"
      ]
     },
     "execution_count": 18,
     "metadata": {},
     "output_type": "execute_result"
    }
   ],
   "source": [
    "l3"
   ]
  },
  {
   "cell_type": "code",
   "execution_count": null,
   "id": "23b93666",
   "metadata": {},
   "outputs": [],
   "source": []
  },
  {
   "cell_type": "code",
   "execution_count": null,
   "id": "c9aea8a3",
   "metadata": {},
   "outputs": [],
   "source": [
    "11) What are the two methods for removing items from a list?"
   ]
  },
  {
   "cell_type": "code",
   "execution_count": null,
   "id": "9d93c763",
   "metadata": {},
   "outputs": [],
   "source": [
    "remove() -->by using this, we can remove the specified item from the list\n",
    "pop()--> by using this function, we can remove the specified index from the list\n",
    "del() --> this also, remove the element by specified index."
   ]
  },
  {
   "cell_type": "code",
   "execution_count": 8,
   "id": "227ac3d9",
   "metadata": {},
   "outputs": [],
   "source": [
    "l = ['a','b','c','d','e']"
   ]
  },
  {
   "cell_type": "code",
   "execution_count": 9,
   "id": "685735a3",
   "metadata": {},
   "outputs": [],
   "source": [
    "l2 = l.remove('b')"
   ]
  },
  {
   "cell_type": "code",
   "execution_count": 10,
   "id": "b76494ad",
   "metadata": {},
   "outputs": [
    {
     "data": {
      "text/plain": [
       "['a', 'c', 'd', 'e']"
      ]
     },
     "execution_count": 10,
     "metadata": {},
     "output_type": "execute_result"
    }
   ],
   "source": [
    "l"
   ]
  },
  {
   "cell_type": "code",
   "execution_count": 11,
   "id": "97ec77b6",
   "metadata": {},
   "outputs": [],
   "source": [
    "l3 = l.pop(2)"
   ]
  },
  {
   "cell_type": "code",
   "execution_count": 12,
   "id": "00ea601c",
   "metadata": {},
   "outputs": [
    {
     "data": {
      "text/plain": [
       "['a', 'c', 'e']"
      ]
     },
     "execution_count": 12,
     "metadata": {},
     "output_type": "execute_result"
    }
   ],
   "source": [
    "l"
   ]
  },
  {
   "cell_type": "code",
   "execution_count": null,
   "id": "512e0cd9",
   "metadata": {},
   "outputs": [],
   "source": []
  },
  {
   "cell_type": "code",
   "execution_count": null,
   "id": "733cd5bd",
   "metadata": {},
   "outputs": [],
   "source": [
    "12) Describe how list values and string values are identical."
   ]
  },
  {
   "cell_type": "code",
   "execution_count": null,
   "id": "a3e1e687",
   "metadata": {},
   "outputs": [],
   "source": [
    "they are separate data types, in that list values are mutuable, whereas string values are immutable,\n",
    "list can contain, many data types, like int, str, float, and etc, but stirng can contain the only characters that are\n",
    "related to the string data type only."
   ]
  },
  {
   "cell_type": "code",
   "execution_count": 1,
   "id": "91946c98",
   "metadata": {},
   "outputs": [],
   "source": [
    "lis = [1,2,3,'a','b',1.1]"
   ]
  },
  {
   "cell_type": "code",
   "execution_count": 2,
   "id": "7122afc0",
   "metadata": {},
   "outputs": [],
   "source": [
    "str = 'ineuron'"
   ]
  },
  {
   "cell_type": "code",
   "execution_count": null,
   "id": "65055735",
   "metadata": {},
   "outputs": [],
   "source": []
  },
  {
   "cell_type": "code",
   "execution_count": null,
   "id": "32b7df69",
   "metadata": {},
   "outputs": [],
   "source": [
    "13) What's the difference between tuples and lists"
   ]
  },
  {
   "cell_type": "code",
   "execution_count": null,
   "id": "f1fe2a5f",
   "metadata": {},
   "outputs": [],
   "source": [
    "tuples:\n",
    "    immutable, hetrogeneous, we can extend the tuples, less memory need for tuple due to the immutable, \n",
    "    we can use tuble as dictionary, so tuples are hashable."
   ]
  },
  {
   "cell_type": "code",
   "execution_count": null,
   "id": "435ab27b",
   "metadata": {},
   "outputs": [],
   "source": []
  },
  {
   "cell_type": "code",
   "execution_count": null,
   "id": "4fe0dcd6",
   "metadata": {},
   "outputs": [],
   "source": [
    "lists:\n",
    "    mutable, homogeneous, we can extend the list also, more memory would be taken since the lists are immutable,\n",
    "    we can't use list as dictionary, so it is non hashable"
   ]
  },
  {
   "cell_type": "code",
   "execution_count": null,
   "id": "4fc1c395",
   "metadata": {},
   "outputs": [],
   "source": []
  },
  {
   "cell_type": "code",
   "execution_count": null,
   "id": "6e6a40d2",
   "metadata": {},
   "outputs": [],
   "source": [
    "14)How do you type a tuple value that only contains the integer 42"
   ]
  },
  {
   "cell_type": "code",
   "execution_count": 7,
   "id": "a028516c",
   "metadata": {},
   "outputs": [],
   "source": [
    "a = (1,2)"
   ]
  },
  {
   "cell_type": "code",
   "execution_count": 8,
   "id": "3daecbb9",
   "metadata": {},
   "outputs": [
    {
     "data": {
      "text/plain": [
       "tuple"
      ]
     },
     "execution_count": 8,
     "metadata": {},
     "output_type": "execute_result"
    }
   ],
   "source": [
    "type(a)"
   ]
  },
  {
   "cell_type": "code",
   "execution_count": 11,
   "id": "5b1f84a0",
   "metadata": {},
   "outputs": [],
   "source": [
    "b = (42,)"
   ]
  },
  {
   "cell_type": "code",
   "execution_count": 12,
   "id": "36056c62",
   "metadata": {},
   "outputs": [
    {
     "data": {
      "text/plain": [
       "tuple"
      ]
     },
     "execution_count": 12,
     "metadata": {},
     "output_type": "execute_result"
    }
   ],
   "source": [
    "type(b)"
   ]
  },
  {
   "cell_type": "code",
   "execution_count": null,
   "id": "5fff0b9d",
   "metadata": {},
   "outputs": [],
   "source": []
  },
  {
   "cell_type": "code",
   "execution_count": null,
   "id": "cc37dcbd",
   "metadata": {},
   "outputs": [],
   "source": [
    "15) How do you get a list value's tuple form? How do you get a tuple value's list form?"
   ]
  },
  {
   "cell_type": "code",
   "execution_count": 1,
   "id": "59f3f2c9",
   "metadata": {},
   "outputs": [],
   "source": [
    "l = [1,2,3,4,5,6]"
   ]
  },
  {
   "cell_type": "code",
   "execution_count": 2,
   "id": "2ab716e1",
   "metadata": {},
   "outputs": [
    {
     "data": {
      "text/plain": [
       "(1, 2, 3, 4, 5, 6)"
      ]
     },
     "execution_count": 2,
     "metadata": {},
     "output_type": "execute_result"
    }
   ],
   "source": [
    "tuple(l)"
   ]
  },
  {
   "cell_type": "code",
   "execution_count": 3,
   "id": "309edc14",
   "metadata": {},
   "outputs": [],
   "source": [
    "t = (1,2,33)"
   ]
  },
  {
   "cell_type": "code",
   "execution_count": 4,
   "id": "ac2b44d6",
   "metadata": {},
   "outputs": [
    {
     "data": {
      "text/plain": [
       "[1, 2, 33]"
      ]
     },
     "execution_count": 4,
     "metadata": {},
     "output_type": "execute_result"
    }
   ],
   "source": [
    "list(t)"
   ]
  },
  {
   "cell_type": "code",
   "execution_count": null,
   "id": "2498b020",
   "metadata": {},
   "outputs": [],
   "source": [
    "in above two examples, we can convert the list elements to the tuple, and tuple elements to the list elements."
   ]
  },
  {
   "cell_type": "code",
   "execution_count": null,
   "id": "ac62f7b4",
   "metadata": {},
   "outputs": [],
   "source": []
  },
  {
   "cell_type": "code",
   "execution_count": null,
   "id": "b3bed4c3",
   "metadata": {},
   "outputs": [],
   "source": [
    "16)Variables that \"contain\" list values are not necessarily lists themselves. Instead, what do they contain?"
   ]
  },
  {
   "cell_type": "code",
   "execution_count": 10,
   "id": "7a3f3a19",
   "metadata": {},
   "outputs": [
    {
     "data": {
      "text/plain": [
       "type"
      ]
     },
     "execution_count": 10,
     "metadata": {},
     "output_type": "execute_result"
    }
   ],
   "source": [
    "type(list)"
   ]
  },
  {
   "cell_type": "code",
   "execution_count": 14,
   "id": "8f5d6f46",
   "metadata": {},
   "outputs": [],
   "source": [
    "l = [12, 'a', 2.0]"
   ]
  },
  {
   "cell_type": "code",
   "execution_count": 15,
   "id": "b6df7c18",
   "metadata": {},
   "outputs": [
    {
     "data": {
      "text/plain": [
       "str"
      ]
     },
     "execution_count": 15,
     "metadata": {},
     "output_type": "execute_result"
    }
   ],
   "source": [
    "type(l[1])"
   ]
  },
  {
   "cell_type": "code",
   "execution_count": null,
   "id": "bc99ed6b",
   "metadata": {},
   "outputs": [],
   "source": [
    "they contains the data type of each and every element, it may be int, str, float or another list etc., in the list's\n",
    "elements."
   ]
  },
  {
   "cell_type": "code",
   "execution_count": null,
   "id": "44a995fa",
   "metadata": {},
   "outputs": [],
   "source": [
    "17) How do you distinguish between copy.copy() and copy.deepcopy()?"
   ]
  },
  {
   "cell_type": "code",
   "execution_count": 1,
   "id": "c3e87954",
   "metadata": {},
   "outputs": [],
   "source": [
    "a = [1,2,3]"
   ]
  },
  {
   "cell_type": "code",
   "execution_count": 2,
   "id": "7af9b05e",
   "metadata": {},
   "outputs": [],
   "source": [
    "b = a"
   ]
  },
  {
   "cell_type": "code",
   "execution_count": 3,
   "id": "2f2d9e46",
   "metadata": {},
   "outputs": [],
   "source": [
    "b[0] = 11"
   ]
  },
  {
   "cell_type": "code",
   "execution_count": 4,
   "id": "0160d5de",
   "metadata": {},
   "outputs": [
    {
     "data": {
      "text/plain": [
       "[11, 2, 3]"
      ]
     },
     "execution_count": 4,
     "metadata": {},
     "output_type": "execute_result"
    }
   ],
   "source": [
    "a"
   ]
  },
  {
   "cell_type": "code",
   "execution_count": null,
   "id": "6a9cf31e",
   "metadata": {},
   "outputs": [],
   "source": [
    "the above example called as deep copy, in this if we updated the assigned the variable's list element, it will \n",
    "automatically change in the initial variable, below example we are using the function to copy"
   ]
  },
  {
   "cell_type": "code",
   "execution_count": 5,
   "id": "dcb23fe4",
   "metadata": {},
   "outputs": [],
   "source": [
    "c = [11,22,33,44]"
   ]
  },
  {
   "cell_type": "code",
   "execution_count": 6,
   "id": "9237cd47",
   "metadata": {},
   "outputs": [],
   "source": [
    "d = c.copy()"
   ]
  },
  {
   "cell_type": "code",
   "execution_count": 7,
   "id": "98450c74",
   "metadata": {},
   "outputs": [
    {
     "data": {
      "text/plain": [
       "[11, 22, 33, 44]"
      ]
     },
     "execution_count": 7,
     "metadata": {},
     "output_type": "execute_result"
    }
   ],
   "source": [
    "d"
   ]
  },
  {
   "cell_type": "code",
   "execution_count": 8,
   "id": "73abf640",
   "metadata": {},
   "outputs": [],
   "source": [
    "d[2] = 45"
   ]
  },
  {
   "cell_type": "code",
   "execution_count": 9,
   "id": "cf877aec",
   "metadata": {},
   "outputs": [
    {
     "data": {
      "text/plain": [
       "[11, 22, 33, 44]"
      ]
     },
     "execution_count": 9,
     "metadata": {},
     "output_type": "execute_result"
    }
   ],
   "source": [
    "c"
   ]
  },
  {
   "cell_type": "code",
   "execution_count": null,
   "id": "ca0febdd",
   "metadata": {},
   "outputs": [],
   "source": [
    "in above example, values of d and c not same, here we have used the copy() function, it creates duplicate with different\n",
    "id, so it is not changed and it is called as shallow copy()."
   ]
  },
  {
   "cell_type": "code",
   "execution_count": null,
   "id": "6cc367ad",
   "metadata": {},
   "outputs": [],
   "source": []
  },
  {
   "cell_type": "code",
   "execution_count": null,
   "id": "abaaca04",
   "metadata": {},
   "outputs": [],
   "source": []
  },
  {
   "cell_type": "code",
   "execution_count": null,
   "id": "b12d28c7",
   "metadata": {},
   "outputs": [],
   "source": []
  },
  {
   "cell_type": "code",
   "execution_count": null,
   "id": "514ddd18",
   "metadata": {},
   "outputs": [],
   "source": []
  },
  {
   "cell_type": "code",
   "execution_count": null,
   "id": "0a3ebf5b",
   "metadata": {},
   "outputs": [],
   "source": []
  },
  {
   "cell_type": "code",
   "execution_count": null,
   "id": "6d80aba1",
   "metadata": {},
   "outputs": [],
   "source": []
  }
 ],
 "metadata": {
  "kernelspec": {
   "display_name": "Python 3",
   "language": "python",
   "name": "python3"
  },
  "language_info": {
   "codemirror_mode": {
    "name": "ipython",
    "version": 3
   },
   "file_extension": ".py",
   "mimetype": "text/x-python",
   "name": "python",
   "nbconvert_exporter": "python",
   "pygments_lexer": "ipython3",
   "version": "3.8.8"
  }
 },
 "nbformat": 4,
 "nbformat_minor": 5
}
