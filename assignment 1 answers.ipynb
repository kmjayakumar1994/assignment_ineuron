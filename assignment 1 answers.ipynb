{
 "cells": [
  {
   "cell_type": "code",
   "execution_count": null,
   "id": "11dab683",
   "metadata": {},
   "outputs": [],
   "source": [
    "Answers for assginment:"
   ]
  },
  {
   "cell_type": "code",
   "execution_count": null,
   "id": "a180b3e0",
   "metadata": {},
   "outputs": [],
   "source": [
    "1) ‘hello’(string) and -87.8(float)  values , (*,  -, /, +)->expressions "
   ]
  },
  {
   "cell_type": "code",
   "execution_count": null,
   "id": "c81464fd",
   "metadata": {},
   "outputs": [],
   "source": [
    "2) String is the combination of words within double quotes(“apple”)/single quotes(‘apple’) or triple quotes(“”” black apple  “””), some integer numbers can be considered as string if those numbers were given in single/double quotes like, a = ‘2’. We can concatenate with normal string, can do the multiple operations, can’t perform the division and subtraction."
   ]
  },
  {
   "cell_type": "code",
   "execution_count": null,
   "id": "e99329ad",
   "metadata": {},
   "outputs": [],
   "source": [
    "example for string:"
   ]
  },
  {
   "cell_type": "code",
   "execution_count": 7,
   "id": "2f6bf037",
   "metadata": {},
   "outputs": [],
   "source": [
    "a = 'apple'"
   ]
  },
  {
   "cell_type": "code",
   "execution_count": 8,
   "id": "e97be342",
   "metadata": {},
   "outputs": [],
   "source": [
    "b = \"ball\""
   ]
  },
  {
   "cell_type": "code",
   "execution_count": 9,
   "id": "7761161a",
   "metadata": {},
   "outputs": [
    {
     "data": {
      "text/plain": [
       "'appleball'"
      ]
     },
     "execution_count": 9,
     "metadata": {},
     "output_type": "execute_result"
    }
   ],
   "source": [
    "a + b"
   ]
  },
  {
   "cell_type": "code",
   "execution_count": 3,
   "id": "117b1857",
   "metadata": {},
   "outputs": [
    {
     "data": {
      "text/plain": [
       "\"\\n'hello world!\\nwelcome to python3\\n'\\n\""
      ]
     },
     "execution_count": 3,
     "metadata": {},
     "output_type": "execute_result"
    }
   ],
   "source": [
    "\"\"\"\n",
    "'hello world!\n",
    "welcome to python3\n",
    "'\n",
    "\"\"\""
   ]
  },
  {
   "cell_type": "code",
   "execution_count": 11,
   "id": "528b26ad",
   "metadata": {},
   "outputs": [],
   "source": [
    "c = a*3"
   ]
  },
  {
   "cell_type": "code",
   "execution_count": 12,
   "id": "3065871a",
   "metadata": {},
   "outputs": [
    {
     "data": {
      "text/plain": [
       "'appleappleapple'"
      ]
     },
     "execution_count": 12,
     "metadata": {},
     "output_type": "execute_result"
    }
   ],
   "source": [
    "c"
   ]
  },
  {
   "cell_type": "code",
   "execution_count": null,
   "id": "6ce94020",
   "metadata": {},
   "outputs": [],
   "source": [
    "variable:\n",
    "    : It is a temporary memory, we can assign values like integer, characters, strings, we can refer those by its temporary address, and variable will take memory size depends upon our allocation, we can reuse the variable by its name, n number of times. We can assign the values(‘it can be strings, integers, float,..etc’) for the processing, by calling that assigned address we can to operations, like print,..etc\n",
    "        "
   ]
  },
  {
   "cell_type": "code",
   "execution_count": null,
   "id": "45fb07b4",
   "metadata": {},
   "outputs": [],
   "source": [
    "example for variable"
   ]
  },
  {
   "cell_type": "code",
   "execution_count": 18,
   "id": "3e991f26",
   "metadata": {},
   "outputs": [],
   "source": [
    "a = 'apple'"
   ]
  },
  {
   "cell_type": "code",
   "execution_count": null,
   "id": "0a995279",
   "metadata": {},
   "outputs": [],
   "source": [
    "in the above example, we assign the values of apple into a, if we call this variable, it will give results."
   ]
  },
  {
   "cell_type": "code",
   "execution_count": 19,
   "id": "ccd520bf",
   "metadata": {},
   "outputs": [
    {
     "data": {
      "text/plain": [
       "'apple'"
      ]
     },
     "execution_count": 19,
     "metadata": {},
     "output_type": "execute_result"
    }
   ],
   "source": [
    "a"
   ]
  },
  {
   "cell_type": "code",
   "execution_count": null,
   "id": "1e5e2723",
   "metadata": {},
   "outputs": [],
   "source": [
    "3)different data types:"
   ]
  },
  {
   "cell_type": "code",
   "execution_count": null,
   "id": "bb232bf9",
   "metadata": {},
   "outputs": [],
   "source": [
    "Integer: it will take number for the operations, like addition, subtraction, multiplication, and division. Ex: a =2"
   ]
  },
  {
   "cell_type": "code",
   "execution_count": null,
   "id": "016b798a",
   "metadata": {},
   "outputs": [],
   "source": [
    "Float: it will looks like integer but will take the decimal points in its values. Ex: a = 2.0"
   ]
  },
  {
   "cell_type": "code",
   "execution_count": null,
   "id": "03d350dd",
   "metadata": {},
   "outputs": [],
   "source": [
    "String: String is the combination of words within quotes. Ex: a = ‘apple’."
   ]
  },
  {
   "cell_type": "code",
   "execution_count": null,
   "id": "bf98cb68",
   "metadata": {},
   "outputs": [],
   "source": [
    "complex: it is a data type, with the combination of real number and imaginary number "
   ]
  },
  {
   "cell_type": "code",
   "execution_count": null,
   "id": "4b27e8eb",
   "metadata": {},
   "outputs": [],
   "source": [
    "ex: 5+3j , here, 5 is a real part and 3j is the imaginary part"
   ]
  },
  {
   "cell_type": "code",
   "execution_count": null,
   "id": "4d685d43",
   "metadata": {},
   "outputs": [],
   "source": [
    "list: list is used to store multiple values at a time, it is mutable, duplicates allowed, we can store, integer, float"
   ]
  },
  {
   "cell_type": "code",
   "execution_count": 21,
   "id": "9230d7d1",
   "metadata": {},
   "outputs": [],
   "source": [
    "l = [1,'a',3+5j]"
   ]
  },
  {
   "cell_type": "code",
   "execution_count": 22,
   "id": "2eb7690c",
   "metadata": {},
   "outputs": [
    {
     "data": {
      "text/plain": [
       "list"
      ]
     },
     "execution_count": 22,
     "metadata": {},
     "output_type": "execute_result"
    }
   ],
   "source": [
    "type(l)"
   ]
  },
  {
   "cell_type": "code",
   "execution_count": null,
   "id": "a3a34051",
   "metadata": {},
   "outputs": [],
   "source": [
    "tuple: tuple is used to store multiple values at a time, it is immutable, duplicates allowed"
   ]
  },
  {
   "cell_type": "code",
   "execution_count": 23,
   "id": "3e0f8c21",
   "metadata": {},
   "outputs": [],
   "source": [
    "t = (1,1,1,12,32)"
   ]
  },
  {
   "cell_type": "code",
   "execution_count": 24,
   "id": "71f51cc1",
   "metadata": {},
   "outputs": [
    {
     "data": {
      "text/plain": [
       "(1, 1, 1, 12, 32)"
      ]
     },
     "execution_count": 24,
     "metadata": {},
     "output_type": "execute_result"
    }
   ],
   "source": [
    "t"
   ]
  },
  {
   "cell_type": "code",
   "execution_count": 25,
   "id": "7ee66d9f",
   "metadata": {},
   "outputs": [
    {
     "data": {
      "text/plain": [
       "tuple"
      ]
     },
     "execution_count": 25,
     "metadata": {},
     "output_type": "execute_result"
    }
   ],
   "source": [
    "type(t)"
   ]
  },
  {
   "cell_type": "code",
   "execution_count": null,
   "id": "18a27e4f",
   "metadata": {},
   "outputs": [],
   "source": [
    "set: set is used to store multiple values at a time, immutable, and duplicates not allowed."
   ]
  },
  {
   "cell_type": "code",
   "execution_count": 26,
   "id": "d98cadbc",
   "metadata": {},
   "outputs": [],
   "source": [
    "aset = {1,2,3}"
   ]
  },
  {
   "cell_type": "code",
   "execution_count": 27,
   "id": "7c2051d3",
   "metadata": {},
   "outputs": [
    {
     "data": {
      "text/plain": [
       "set"
      ]
     },
     "execution_count": 27,
     "metadata": {},
     "output_type": "execute_result"
    }
   ],
   "source": [
    "type(aset)"
   ]
  },
  {
   "cell_type": "code",
   "execution_count": null,
   "id": "75f50a28",
   "metadata": {},
   "outputs": [],
   "source": [
    "dictinary: dictinary is used to store multiple key and value pairs at a single time, mutable, key value is unique, mutable."
   ]
  },
  {
   "cell_type": "code",
   "execution_count": 28,
   "id": "019498ea",
   "metadata": {},
   "outputs": [
    {
     "data": {
      "text/plain": [
       "dict"
      ]
     },
     "execution_count": 28,
     "metadata": {},
     "output_type": "execute_result"
    }
   ],
   "source": [
    "type({})"
   ]
  },
  {
   "cell_type": "code",
   "execution_count": 30,
   "id": "5f1a0192",
   "metadata": {},
   "outputs": [],
   "source": [
    "adict = {'a':1, 2:5}"
   ]
  },
  {
   "cell_type": "code",
   "execution_count": 31,
   "id": "480fb302",
   "metadata": {},
   "outputs": [
    {
     "data": {
      "text/plain": [
       "1"
      ]
     },
     "execution_count": 31,
     "metadata": {},
     "output_type": "execute_result"
    }
   ],
   "source": [
    "adict['a']"
   ]
  },
  {
   "cell_type": "code",
   "execution_count": 29,
   "id": "19c9ed2d",
   "metadata": {},
   "outputs": [],
   "source": [
    "4)Expressions are the combination of variables, operations and will give the result and it will represent something like number, string. Any of the value can be an expression.\n",
    "A = ‘cat’ --> it will assign the value to A, but mere ‘cat’ is simple expression, by this simple expression we are not getting to be evaluate.\n"
   ]
  },
  {
   "cell_type": "code",
   "execution_count": null,
   "id": "7dad53bd",
   "metadata": {},
   "outputs": [],
   "source": [
    "5) Expressions are the combination of variables, operations, symbols and will give the result"
   ]
  },
  {
   "cell_type": "code",
   "execution_count": 33,
   "id": "62c457c1",
   "metadata": {},
   "outputs": [
    {
     "data": {
      "text/plain": [
       "13"
      ]
     },
     "execution_count": 33,
     "metadata": {},
     "output_type": "execute_result"
    }
   ],
   "source": [
    "3+5*2"
   ]
  },
  {
   "cell_type": "code",
   "execution_count": null,
   "id": "907f8c7b",
   "metadata": {},
   "outputs": [],
   "source": [
    "Statement is the programming instruction, will do some actions."
   ]
  },
  {
   "cell_type": "code",
   "execution_count": 34,
   "id": "58ed7703",
   "metadata": {},
   "outputs": [
    {
     "name": "stdout",
     "output_type": "stream",
     "text": [
      "hello world\n"
     ]
    }
   ],
   "source": [
    "print('hello world')"
   ]
  },
  {
   "cell_type": "code",
   "execution_count": null,
   "id": "2ae2a837",
   "metadata": {},
   "outputs": [],
   "source": [
    "6)"
   ]
  },
  {
   "cell_type": "code",
   "execution_count": 35,
   "id": "800cb050",
   "metadata": {},
   "outputs": [],
   "source": [
    "bacon = 22"
   ]
  },
  {
   "cell_type": "code",
   "execution_count": 36,
   "id": "2c78a4fa",
   "metadata": {},
   "outputs": [
    {
     "data": {
      "text/plain": [
       "23"
      ]
     },
     "execution_count": 36,
     "metadata": {},
     "output_type": "execute_result"
    }
   ],
   "source": [
    "bacon + 1"
   ]
  },
  {
   "cell_type": "code",
   "execution_count": null,
   "id": "1fa62f76",
   "metadata": {},
   "outputs": [],
   "source": [
    "7)"
   ]
  },
  {
   "cell_type": "code",
   "execution_count": 39,
   "id": "578b01dc",
   "metadata": {},
   "outputs": [
    {
     "data": {
      "text/plain": [
       "'spamspamspam'"
      ]
     },
     "execution_count": 39,
     "metadata": {},
     "output_type": "execute_result"
    }
   ],
   "source": [
    "'spam' + 'spamspam'"
   ]
  },
  {
   "cell_type": "code",
   "execution_count": null,
   "id": "d9df2f59",
   "metadata": {},
   "outputs": [],
   "source": [
    "string concatenation happend in the above example"
   ]
  },
  {
   "cell_type": "code",
   "execution_count": null,
   "id": "00b09489",
   "metadata": {},
   "outputs": [],
   "source": [
    "string multiplication happend in the below example, other than these, division and subtraction is not applicable on string."
   ]
  },
  {
   "cell_type": "code",
   "execution_count": 38,
   "id": "7a567238",
   "metadata": {},
   "outputs": [
    {
     "data": {
      "text/plain": [
       "'spamspamspam'"
      ]
     },
     "execution_count": 38,
     "metadata": {},
     "output_type": "execute_result"
    }
   ],
   "source": [
    "'spam' * 3"
   ]
  },
  {
   "cell_type": "code",
   "execution_count": null,
   "id": "7e3e2221",
   "metadata": {},
   "outputs": [],
   "source": [
    "8)We can define, variable name as starting with letters, and underscore, but we shouldn’t start with numbers, if we do so, it will throw an error “syntax error”"
   ]
  },
  {
   "cell_type": "code",
   "execution_count": 42,
   "id": "f69ec883",
   "metadata": {},
   "outputs": [],
   "source": [
    "eggs = 5"
   ]
  },
  {
   "cell_type": "code",
   "execution_count": 43,
   "id": "bfafad6f",
   "metadata": {},
   "outputs": [
    {
     "ename": "SyntaxError",
     "evalue": "cannot assign to literal (<ipython-input-43-e1bcbecec2de>, line 1)",
     "output_type": "error",
     "traceback": [
      "\u001b[1;36m  File \u001b[1;32m\"<ipython-input-43-e1bcbecec2de>\"\u001b[1;36m, line \u001b[1;32m1\u001b[0m\n\u001b[1;33m    100 = '1'\u001b[0m\n\u001b[1;37m    ^\u001b[0m\n\u001b[1;31mSyntaxError\u001b[0m\u001b[1;31m:\u001b[0m cannot assign to literal\n"
     ]
    }
   ],
   "source": [
    "100 = '1'"
   ]
  },
  {
   "cell_type": "code",
   "execution_count": 44,
   "id": "8cf96a63",
   "metadata": {},
   "outputs": [
    {
     "data": {
      "text/plain": [
       "5"
      ]
     },
     "execution_count": 44,
     "metadata": {},
     "output_type": "execute_result"
    }
   ],
   "source": [
    "eggs"
   ]
  },
  {
   "cell_type": "code",
   "execution_count": null,
   "id": "a1db01d4",
   "metadata": {},
   "outputs": [],
   "source": [
    "9) "
   ]
  },
  {
   "cell_type": "code",
   "execution_count": null,
   "id": "addd2cc4",
   "metadata": {},
   "outputs": [],
   "source": [
    "For integer operations int() function will be excuted, we can use this function for type casting"
   ]
  },
  {
   "cell_type": "code",
   "execution_count": 45,
   "id": "73ec9155",
   "metadata": {},
   "outputs": [
    {
     "data": {
      "text/plain": [
       "10"
      ]
     },
     "execution_count": 45,
     "metadata": {},
     "output_type": "execute_result"
    }
   ],
   "source": [
    "int(10.5)"
   ]
  },
  {
   "cell_type": "code",
   "execution_count": null,
   "id": "69069013",
   "metadata": {},
   "outputs": [],
   "source": [
    "For Float operations float() function will be excuted, we can use this function for type casting"
   ]
  },
  {
   "cell_type": "code",
   "execution_count": 47,
   "id": "b5b6d891",
   "metadata": {},
   "outputs": [
    {
     "data": {
      "text/plain": [
       "1.0"
      ]
     },
     "execution_count": 47,
     "metadata": {},
     "output_type": "execute_result"
    }
   ],
   "source": [
    "float(1)"
   ]
  },
  {
   "cell_type": "code",
   "execution_count": null,
   "id": "20ccca9a",
   "metadata": {},
   "outputs": [],
   "source": [
    "For string operations str() function will be excuted, we can use this function for type casting"
   ]
  },
  {
   "cell_type": "code",
   "execution_count": 49,
   "id": "d337ad79",
   "metadata": {},
   "outputs": [
    {
     "data": {
      "text/plain": [
       "'2'"
      ]
     },
     "execution_count": 49,
     "metadata": {},
     "output_type": "execute_result"
    }
   ],
   "source": [
    "str(2)"
   ]
  },
  {
   "cell_type": "code",
   "execution_count": null,
   "id": "66d172d6",
   "metadata": {},
   "outputs": [],
   "source": [
    "10)"
   ]
  },
  {
   "cell_type": "code",
   "execution_count": 50,
   "id": "ecdd4e8f",
   "metadata": {},
   "outputs": [
    {
     "ename": "TypeError",
     "evalue": "can only concatenate str (not \"int\") to str",
     "output_type": "error",
     "traceback": [
      "\u001b[1;31m---------------------------------------------------------------------------\u001b[0m",
      "\u001b[1;31mTypeError\u001b[0m                                 Traceback (most recent call last)",
      "\u001b[1;32m<ipython-input-50-d24137131a5c>\u001b[0m in \u001b[0;36m<module>\u001b[1;34m\u001b[0m\n\u001b[1;32m----> 1\u001b[1;33m \u001b[1;34m'I have eaten '\u001b[0m \u001b[1;33m+\u001b[0m \u001b[1;36m99\u001b[0m \u001b[1;33m+\u001b[0m \u001b[1;34m' burritos.'\u001b[0m\u001b[1;33m\u001b[0m\u001b[1;33m\u001b[0m\u001b[0m\n\u001b[0m",
      "\u001b[1;31mTypeError\u001b[0m: can only concatenate str (not \"int\") to str"
     ]
    }
   ],
   "source": [
    "'I have eaten ' + 99 + ' burritos.'"
   ]
  },
  {
   "cell_type": "code",
   "execution_count": null,
   "id": "da0ab920",
   "metadata": {},
   "outputs": [],
   "source": [
    "it will only concatenate the string to string operations only, so here we have to type cast the 99 into the str, then do this operation\n"
   ]
  },
  {
   "cell_type": "code",
   "execution_count": 52,
   "id": "f8c30ac3",
   "metadata": {},
   "outputs": [
    {
     "data": {
      "text/plain": [
       "'I have eaten 99 burritos.'"
      ]
     },
     "execution_count": 52,
     "metadata": {},
     "output_type": "execute_result"
    }
   ],
   "source": [
    "'I have eaten ' + str(99) + ' burritos.'"
   ]
  }
 ],
 "metadata": {
  "kernelspec": {
   "display_name": "Python 3",
   "language": "python",
   "name": "python3"
  },
  "language_info": {
   "codemirror_mode": {
    "name": "ipython",
    "version": 3
   },
   "file_extension": ".py",
   "mimetype": "text/x-python",
   "name": "python",
   "nbconvert_exporter": "python",
   "pygments_lexer": "ipython3",
   "version": "3.8.8"
  }
 },
 "nbformat": 4,
 "nbformat_minor": 5
}
