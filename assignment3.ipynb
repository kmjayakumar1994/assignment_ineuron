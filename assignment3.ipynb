{
 "cells": [
  {
   "cell_type": "code",
   "execution_count": null,
   "id": "f6e763df",
   "metadata": {
    "scrolled": true
   },
   "outputs": [],
   "source": [
    "1)"
   ]
  },
  {
   "cell_type": "code",
   "execution_count": null,
   "id": "7f44e22d",
   "metadata": {},
   "outputs": [],
   "source": [
    "Reusablity of code\n",
    "Reducing duplication of code\n",
    "We can pass any number of arguments\n",
    "Write once and we can call wherever it is required\n",
    "Exceute complex problems into easy execution through function"
   ]
  },
  {
   "cell_type": "code",
   "execution_count": null,
   "id": "46946f8e",
   "metadata": {},
   "outputs": [],
   "source": []
  },
  {
   "cell_type": "code",
   "execution_count": null,
   "id": "ab42913a",
   "metadata": {},
   "outputs": [],
   "source": [
    "2)"
   ]
  },
  {
   "cell_type": "code",
   "execution_count": null,
   "id": "4bea032a",
   "metadata": {},
   "outputs": [],
   "source": [
    "When we call the function or function with arguments, then function codes will started executing from beginning\n",
    "to the end and return the value if mentioned, If again we call, again it starts from beginning to end."
   ]
  },
  {
   "cell_type": "code",
   "execution_count": null,
   "id": "46b80b93",
   "metadata": {},
   "outputs": [],
   "source": []
  },
  {
   "cell_type": "code",
   "execution_count": null,
   "id": "4609d61a",
   "metadata": {},
   "outputs": [],
   "source": [
    "3)"
   ]
  },
  {
   "cell_type": "code",
   "execution_count": null,
   "id": "d456f48e",
   "metadata": {},
   "outputs": [],
   "source": [
    "def function_name():\n",
    "    {\n",
    "        #codes\n",
    "    }"
   ]
  },
  {
   "cell_type": "code",
   "execution_count": null,
   "id": "5a5357f8",
   "metadata": {},
   "outputs": [],
   "source": [
    "def keyword will create the function, followed by function name and () with colon(:)"
   ]
  },
  {
   "cell_type": "code",
   "execution_count": null,
   "id": "302c978b",
   "metadata": {},
   "outputs": [],
   "source": []
  },
  {
   "cell_type": "code",
   "execution_count": null,
   "id": "05e6532a",
   "metadata": {},
   "outputs": [],
   "source": [
    "4)"
   ]
  },
  {
   "cell_type": "code",
   "execution_count": null,
   "id": "c43d8cd9",
   "metadata": {},
   "outputs": [],
   "source": [
    "Function:\n",
    "    A function is a block of codes and will perform the operation and return a result, It will take input as \n",
    "the parameters we are passing, and returns the result. Parameters is not mandatory\n",
    "\n",
    "Example:\n",
    "    def fun1(name):\n",
    "        {\n",
    "            print('hello, '+ name)\n",
    "        }\n"
   ]
  },
  {
   "cell_type": "code",
   "execution_count": null,
   "id": "2f794580",
   "metadata": {},
   "outputs": [],
   "source": [
    "Function call:\n",
    "    through function call we can control the function through parameters.\n",
    "    \n",
    "Example:\n",
    "    fun1('kumar')"
   ]
  },
  {
   "cell_type": "code",
   "execution_count": 26,
   "id": "6ee7955a",
   "metadata": {},
   "outputs": [],
   "source": [
    "def fun1(name):\n",
    "    {\n",
    "        print('hello, '+ name)\n",
    "    }"
   ]
  },
  {
   "cell_type": "code",
   "execution_count": 27,
   "id": "ba4edb46",
   "metadata": {},
   "outputs": [
    {
     "name": "stdout",
     "output_type": "stream",
     "text": [
      "hello, kumar\n"
     ]
    }
   ],
   "source": [
    "fun1('kumar')"
   ]
  },
  {
   "cell_type": "code",
   "execution_count": null,
   "id": "1ad1237d",
   "metadata": {},
   "outputs": [],
   "source": []
  },
  {
   "cell_type": "code",
   "execution_count": null,
   "id": "b79bd176",
   "metadata": {},
   "outputs": [],
   "source": [
    "5) there is only one global scobe and local will be created whenever the function is called. "
   ]
  },
  {
   "cell_type": "code",
   "execution_count": null,
   "id": "79092564",
   "metadata": {},
   "outputs": [],
   "source": []
  },
  {
   "cell_type": "code",
   "execution_count": null,
   "id": "5e79a98e",
   "metadata": {},
   "outputs": [],
   "source": [
    "6) local scope will destroyed when the program completes its exeution and while returns the value."
   ]
  },
  {
   "cell_type": "code",
   "execution_count": null,
   "id": "a1c52c51",
   "metadata": {},
   "outputs": [],
   "source": []
  },
  {
   "cell_type": "code",
   "execution_count": null,
   "id": "7194b6f2",
   "metadata": {},
   "outputs": [],
   "source": [
    "7) Python function's return statement is a special one, which will return the result back as output, It is used to \n",
    "end the function call. \n",
    "Return value can be anything of the python object, so it is possible to have return value in an expression."
   ]
  },
  {
   "cell_type": "code",
   "execution_count": null,
   "id": "fb0dcba9",
   "metadata": {},
   "outputs": [],
   "source": []
  },
  {
   "cell_type": "code",
   "execution_count": null,
   "id": "9d3be726",
   "metadata": {},
   "outputs": [],
   "source": [
    "8) If function doesn't mention any return value, then it will return the None."
   ]
  },
  {
   "cell_type": "code",
   "execution_count": null,
   "id": "29f8f747",
   "metadata": {},
   "outputs": [],
   "source": []
  },
  {
   "cell_type": "code",
   "execution_count": null,
   "id": "6041d62a",
   "metadata": {},
   "outputs": [],
   "source": [
    "9) If we want to refer a global variable in a function, we can use global keyword inside the function, then it will \n",
    "declare the variables to make global, wherever it is required we can use this."
   ]
  },
  {
   "cell_type": "code",
   "execution_count": null,
   "id": "1e125599",
   "metadata": {},
   "outputs": [],
   "source": []
  },
  {
   "cell_type": "code",
   "execution_count": null,
   "id": "b62cdea3",
   "metadata": {},
   "outputs": [],
   "source": [
    "10) datatype of None is its own Nonetype, is used to define the null value, or no value at all, and it is not as same as 0,\n",
    "False, or an empty string."
   ]
  },
  {
   "cell_type": "code",
   "execution_count": null,
   "id": "1b0c64f2",
   "metadata": {},
   "outputs": [],
   "source": []
  },
  {
   "cell_type": "code",
   "execution_count": null,
   "id": "66929044",
   "metadata": {},
   "outputs": [],
   "source": [
    "11) import areallyourpetsnamederic will import the module named \"areallyourpetsnamederic\"."
   ]
  },
  {
   "cell_type": "code",
   "execution_count": null,
   "id": "ce810851",
   "metadata": {},
   "outputs": [],
   "source": []
  },
  {
   "cell_type": "code",
   "execution_count": null,
   "id": "f756ab14",
   "metadata": {},
   "outputs": [],
   "source": [
    "12) "
   ]
  },
  {
   "cell_type": "code",
   "execution_count": null,
   "id": "49afc418",
   "metadata": {},
   "outputs": [],
   "source": []
  },
  {
   "cell_type": "code",
   "execution_count": null,
   "id": "fae02999",
   "metadata": {},
   "outputs": [],
   "source": [
    "13) we can use exception handling to encounter the error"
   ]
  },
  {
   "cell_type": "code",
   "execution_count": 4,
   "id": "3b413c46",
   "metadata": {},
   "outputs": [
    {
     "name": "stdout",
     "output_type": "stream",
     "text": [
      "{df\n",
      "unexpected EOF while parsing (<string>, line 1)\n"
     ]
    }
   ],
   "source": [
    "try:\n",
    "    a = eval(input())\n",
    "    if type(a) == list:\n",
    "        print('list')\n",
    "    elif type(a) == int:\n",
    "        print('int')\n",
    "except Exception as e:\n",
    "    print(e)\n",
    "    "
   ]
  },
  {
   "cell_type": "code",
   "execution_count": null,
   "id": "47b4d75e",
   "metadata": {},
   "outputs": [],
   "source": [
    "in the above example if we give the values except int, and list, error will occur, that error, will be catched by exception\n",
    "part, so codes were not be crashed."
   ]
  },
  {
   "cell_type": "code",
   "execution_count": null,
   "id": "920123e4",
   "metadata": {},
   "outputs": [],
   "source": []
  },
  {
   "cell_type": "code",
   "execution_count": null,
   "id": "f90a3d73",
   "metadata": {},
   "outputs": [],
   "source": [
    "14) \n",
    "In try block, all the conditions will be executed, until the exception has found\n",
    "In except block, it will catch the exceptions if conditions failed or encountered an error in try block"
   ]
  },
  {
   "cell_type": "code",
   "execution_count": null,
   "id": "cadf13ef",
   "metadata": {},
   "outputs": [],
   "source": []
  },
  {
   "cell_type": "code",
   "execution_count": null,
   "id": "3cd76dce",
   "metadata": {},
   "outputs": [],
   "source": []
  },
  {
   "cell_type": "code",
   "execution_count": null,
   "id": "1608ada8",
   "metadata": {},
   "outputs": [],
   "source": []
  },
  {
   "cell_type": "code",
   "execution_count": null,
   "id": "060958de",
   "metadata": {},
   "outputs": [],
   "source": []
  }
 ],
 "metadata": {
  "kernelspec": {
   "display_name": "Python 3",
   "language": "python",
   "name": "python3"
  },
  "language_info": {
   "codemirror_mode": {
    "name": "ipython",
    "version": 3
   },
   "file_extension": ".py",
   "mimetype": "text/x-python",
   "name": "python",
   "nbconvert_exporter": "python",
   "pygments_lexer": "ipython3",
   "version": "3.8.8"
  }
 },
 "nbformat": 4,
 "nbformat_minor": 5
}
