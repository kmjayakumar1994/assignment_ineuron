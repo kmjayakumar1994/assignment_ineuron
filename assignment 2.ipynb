{
 "cells": [
  {
   "cell_type": "code",
   "execution_count": null,
   "id": "77a7c505",
   "metadata": {},
   "outputs": [],
   "source": [
    "1)Two Values of boolean data type are: \n",
    "    1)True(1)\n",
    "    2)False(0)\n",
    "    In the above, those values are case sensitive: First letter should be in capital letter and rest will be in small letters"
   ]
  },
  {
   "cell_type": "code",
   "execution_count": null,
   "id": "232d138d",
   "metadata": {},
   "outputs": [],
   "source": []
  },
  {
   "cell_type": "code",
   "execution_count": null,
   "id": "8035506b",
   "metadata": {},
   "outputs": [],
   "source": [
    "2) Three different types of boolean operators are:\n",
    "    AND\n",
    "    OR\n",
    "    NOT"
   ]
  },
  {
   "cell_type": "code",
   "execution_count": null,
   "id": "0341fde9",
   "metadata": {},
   "outputs": [],
   "source": [
    "3)boolean truth table:"
   ]
  },
  {
   "cell_type": "code",
   "execution_count": null,
   "id": "6c61a78b",
   "metadata": {},
   "outputs": [],
   "source": [
    "i) and truth table:"
   ]
  },
  {
   "cell_type": "code",
   "execution_count": 13,
   "id": "46f72e03",
   "metadata": {},
   "outputs": [],
   "source": [
    "a = False"
   ]
  },
  {
   "cell_type": "code",
   "execution_count": 3,
   "id": "ec9d217a",
   "metadata": {},
   "outputs": [],
   "source": [
    "b = False"
   ]
  },
  {
   "cell_type": "code",
   "execution_count": 4,
   "id": "cf8e27b9",
   "metadata": {},
   "outputs": [
    {
     "data": {
      "text/plain": [
       "False"
      ]
     },
     "execution_count": 4,
     "metadata": {},
     "output_type": "execute_result"
    }
   ],
   "source": [
    "a and b"
   ]
  },
  {
   "cell_type": "code",
   "execution_count": 6,
   "id": "1991501a",
   "metadata": {},
   "outputs": [],
   "source": [
    "b = True"
   ]
  },
  {
   "cell_type": "code",
   "execution_count": 7,
   "id": "48cd5f5b",
   "metadata": {},
   "outputs": [
    {
     "data": {
      "text/plain": [
       "False"
      ]
     },
     "execution_count": 7,
     "metadata": {},
     "output_type": "execute_result"
    }
   ],
   "source": [
    "a and b"
   ]
  },
  {
   "cell_type": "code",
   "execution_count": 8,
   "id": "918e2204",
   "metadata": {},
   "outputs": [],
   "source": [
    "a = True"
   ]
  },
  {
   "cell_type": "code",
   "execution_count": 9,
   "id": "33d747ac",
   "metadata": {},
   "outputs": [],
   "source": [
    "b = False"
   ]
  },
  {
   "cell_type": "code",
   "execution_count": 10,
   "id": "2e2f83d4",
   "metadata": {},
   "outputs": [
    {
     "data": {
      "text/plain": [
       "False"
      ]
     },
     "execution_count": 10,
     "metadata": {},
     "output_type": "execute_result"
    }
   ],
   "source": [
    "a and b"
   ]
  },
  {
   "cell_type": "code",
   "execution_count": 11,
   "id": "8f90ac87",
   "metadata": {},
   "outputs": [],
   "source": [
    "b = True"
   ]
  },
  {
   "cell_type": "code",
   "execution_count": 12,
   "id": "6b4f5801",
   "metadata": {},
   "outputs": [
    {
     "data": {
      "text/plain": [
       "True"
      ]
     },
     "execution_count": 12,
     "metadata": {},
     "output_type": "execute_result"
    }
   ],
   "source": [
    "a and b"
   ]
  },
  {
   "cell_type": "code",
   "execution_count": null,
   "id": "a8359d44",
   "metadata": {},
   "outputs": [],
   "source": [
    "ii) or table"
   ]
  },
  {
   "cell_type": "code",
   "execution_count": 16,
   "id": "c70a470f",
   "metadata": {},
   "outputs": [],
   "source": [
    "a = False"
   ]
  },
  {
   "cell_type": "code",
   "execution_count": 17,
   "id": "1129b0d6",
   "metadata": {},
   "outputs": [],
   "source": [
    "b = False"
   ]
  },
  {
   "cell_type": "code",
   "execution_count": 18,
   "id": "f25b909c",
   "metadata": {},
   "outputs": [
    {
     "data": {
      "text/plain": [
       "False"
      ]
     },
     "execution_count": 18,
     "metadata": {},
     "output_type": "execute_result"
    }
   ],
   "source": [
    "a or b"
   ]
  },
  {
   "cell_type": "code",
   "execution_count": 19,
   "id": "85416fca",
   "metadata": {},
   "outputs": [],
   "source": [
    "a = False"
   ]
  },
  {
   "cell_type": "code",
   "execution_count": 20,
   "id": "385dd7cc",
   "metadata": {},
   "outputs": [],
   "source": [
    "b = True"
   ]
  },
  {
   "cell_type": "code",
   "execution_count": 21,
   "id": "b5a3bee4",
   "metadata": {},
   "outputs": [
    {
     "data": {
      "text/plain": [
       "True"
      ]
     },
     "execution_count": 21,
     "metadata": {},
     "output_type": "execute_result"
    }
   ],
   "source": [
    "a or b"
   ]
  },
  {
   "cell_type": "code",
   "execution_count": 22,
   "id": "babc4613",
   "metadata": {},
   "outputs": [],
   "source": [
    "a = True"
   ]
  },
  {
   "cell_type": "code",
   "execution_count": 24,
   "id": "e9c88d4c",
   "metadata": {},
   "outputs": [],
   "source": [
    "b = False"
   ]
  },
  {
   "cell_type": "code",
   "execution_count": 25,
   "id": "6368ff80",
   "metadata": {},
   "outputs": [
    {
     "data": {
      "text/plain": [
       "True"
      ]
     },
     "execution_count": 25,
     "metadata": {},
     "output_type": "execute_result"
    }
   ],
   "source": [
    "a or b"
   ]
  },
  {
   "cell_type": "code",
   "execution_count": 26,
   "id": "253d07a5",
   "metadata": {},
   "outputs": [],
   "source": [
    "b = True"
   ]
  },
  {
   "cell_type": "code",
   "execution_count": 27,
   "id": "03ceda5f",
   "metadata": {},
   "outputs": [
    {
     "data": {
      "text/plain": [
       "True"
      ]
     },
     "execution_count": 27,
     "metadata": {},
     "output_type": "execute_result"
    }
   ],
   "source": [
    "a or b"
   ]
  },
  {
   "cell_type": "code",
   "execution_count": null,
   "id": "48c4bcdb",
   "metadata": {},
   "outputs": [],
   "source": [
    "iii) not table"
   ]
  },
  {
   "cell_type": "code",
   "execution_count": 28,
   "id": "cc8b3d21",
   "metadata": {},
   "outputs": [],
   "source": [
    "a = False"
   ]
  },
  {
   "cell_type": "code",
   "execution_count": 29,
   "id": "602f7578",
   "metadata": {},
   "outputs": [
    {
     "data": {
      "text/plain": [
       "True"
      ]
     },
     "execution_count": 29,
     "metadata": {},
     "output_type": "execute_result"
    }
   ],
   "source": [
    "not a"
   ]
  },
  {
   "cell_type": "code",
   "execution_count": 34,
   "id": "8d4c9ea7",
   "metadata": {},
   "outputs": [],
   "source": [
    "a = True"
   ]
  },
  {
   "cell_type": "code",
   "execution_count": 35,
   "id": "af26beaa",
   "metadata": {},
   "outputs": [
    {
     "data": {
      "text/plain": [
       "False"
      ]
     },
     "execution_count": 35,
     "metadata": {},
     "output_type": "execute_result"
    }
   ],
   "source": [
    "not a"
   ]
  },
  {
   "cell_type": "code",
   "execution_count": null,
   "id": "857ca1f5",
   "metadata": {},
   "outputs": [],
   "source": []
  },
  {
   "cell_type": "code",
   "execution_count": null,
   "id": "f8e028c9",
   "metadata": {},
   "outputs": [],
   "source": []
  },
  {
   "cell_type": "code",
   "execution_count": null,
   "id": "b28d79e2",
   "metadata": {},
   "outputs": [],
   "source": [
    "4)"
   ]
  },
  {
   "cell_type": "code",
   "execution_count": 2,
   "id": "ca0f64e9",
   "metadata": {},
   "outputs": [
    {
     "data": {
      "text/plain": [
       "False"
      ]
     },
     "execution_count": 2,
     "metadata": {},
     "output_type": "execute_result"
    }
   ],
   "source": [
    "(5 > 4) and (3 == 5)"
   ]
  },
  {
   "cell_type": "code",
   "execution_count": 3,
   "id": "972e5e55",
   "metadata": {},
   "outputs": [
    {
     "data": {
      "text/plain": [
       "False"
      ]
     },
     "execution_count": 3,
     "metadata": {},
     "output_type": "execute_result"
    }
   ],
   "source": [
    "not (5 > 4)"
   ]
  },
  {
   "cell_type": "code",
   "execution_count": 4,
   "id": "9f740117",
   "metadata": {},
   "outputs": [
    {
     "data": {
      "text/plain": [
       "True"
      ]
     },
     "execution_count": 4,
     "metadata": {},
     "output_type": "execute_result"
    }
   ],
   "source": [
    "(5 > 4) or (3 == 5)"
   ]
  },
  {
   "cell_type": "code",
   "execution_count": 5,
   "id": "ee21796e",
   "metadata": {},
   "outputs": [
    {
     "data": {
      "text/plain": [
       "False"
      ]
     },
     "execution_count": 5,
     "metadata": {},
     "output_type": "execute_result"
    }
   ],
   "source": [
    "not ((5 > 4) or (3 == 5))"
   ]
  },
  {
   "cell_type": "code",
   "execution_count": 6,
   "id": "2971d526",
   "metadata": {},
   "outputs": [
    {
     "data": {
      "text/plain": [
       "False"
      ]
     },
     "execution_count": 6,
     "metadata": {},
     "output_type": "execute_result"
    }
   ],
   "source": [
    "(True and True) and (True == False)"
   ]
  },
  {
   "cell_type": "code",
   "execution_count": 7,
   "id": "6cc27aea",
   "metadata": {},
   "outputs": [
    {
     "data": {
      "text/plain": [
       "True"
      ]
     },
     "execution_count": 7,
     "metadata": {},
     "output_type": "execute_result"
    }
   ],
   "source": [
    "(not False) or (not True)"
   ]
  },
  {
   "cell_type": "code",
   "execution_count": null,
   "id": "ae28320e",
   "metadata": {},
   "outputs": [],
   "source": []
  },
  {
   "cell_type": "code",
   "execution_count": null,
   "id": "399ac1b8",
   "metadata": {},
   "outputs": [],
   "source": [
    "5) \n",
    "i)greaterthan(>)\n",
    "ii)less than(<)\n",
    "iii)equal to(=)\n",
    "iv)greater than or equal to(>=)\n",
    "v)lesser than or equal to(<=)\n",
    "vi) unequal/not equal(!=)\n"
   ]
  },
  {
   "cell_type": "code",
   "execution_count": null,
   "id": "3cb84e76",
   "metadata": {},
   "outputs": [],
   "source": []
  },
  {
   "cell_type": "code",
   "execution_count": null,
   "id": "66435367",
   "metadata": {},
   "outputs": [],
   "source": [
    "6)\n",
    "i)Equal to operator is used to check the existing value/variable with the other variable/value for validation purpose, \n",
    "it will give true of false expression as results\n",
    "ii)assignment operator is used to store/assign the value to the variable. "
   ]
  },
  {
   "cell_type": "code",
   "execution_count": null,
   "id": "57bd081b",
   "metadata": {},
   "outputs": [],
   "source": [
    "when to use equalto/assignment operator operator:"
   ]
  },
  {
   "cell_type": "code",
   "execution_count": 16,
   "id": "87e98de8",
   "metadata": {},
   "outputs": [],
   "source": [
    "x,y = 2,22"
   ]
  },
  {
   "cell_type": "code",
   "execution_count": 17,
   "id": "a2323d88",
   "metadata": {},
   "outputs": [
    {
     "name": "stdout",
     "output_type": "stream",
     "text": [
      "False\n"
     ]
    }
   ],
   "source": [
    "print(x == y)    "
   ]
  },
  {
   "cell_type": "code",
   "execution_count": null,
   "id": "ef765366",
   "metadata": {},
   "outputs": [],
   "source": [
    "in the above, we are assigned the values to this variable x,y as 2, 22 and, inside the print(x==y) checking \n",
    "the values of those x and y, x and y values are not equal, so it throws an result as false."
   ]
  },
  {
   "cell_type": "code",
   "execution_count": null,
   "id": "2de6e702",
   "metadata": {},
   "outputs": [],
   "source": []
  },
  {
   "cell_type": "code",
   "execution_count": null,
   "id": "49235bee",
   "metadata": {},
   "outputs": [],
   "source": [
    "7)"
   ]
  },
  {
   "cell_type": "code",
   "execution_count": 48,
   "id": "979b362a",
   "metadata": {},
   "outputs": [
    {
     "name": "stdout",
     "output_type": "stream",
     "text": [
      "spam\n",
      "spam\n"
     ]
    }
   ],
   "source": [
    "spam = 0\n",
    "if spam == 10:\n",
    "    print('eggs')\n",
    "    if spam > 5:\n",
    "        print('bacon')\n",
    "    else:\n",
    "        print('ham')\n",
    "print('spam')\n",
    "print('spam')\n"
   ]
  },
  {
   "cell_type": "code",
   "execution_count": null,
   "id": "88480608",
   "metadata": {},
   "outputs": [],
   "source": [
    "8)"
   ]
  },
  {
   "cell_type": "code",
   "execution_count": 3,
   "id": "fbcb6dee",
   "metadata": {},
   "outputs": [
    {
     "name": "stdout",
     "output_type": "stream",
     "text": [
      "enter the value:1\n",
      "Hello!\n"
     ]
    }
   ],
   "source": [
    "spam = int(input(\"enter the value:\"))\n",
    "if spam == 1:\n",
    "    print('Hello!')\n",
    "elif spam == 2:\n",
    "    print('Howdy!')\n",
    "else:\n",
    "    print('Greetings!')    "
   ]
  },
  {
   "cell_type": "code",
   "execution_count": null,
   "id": "015482d8",
   "metadata": {},
   "outputs": [],
   "source": [
    "9)\n",
    "CTRL + C shortcut will help us to stop the endless loop"
   ]
  },
  {
   "cell_type": "code",
   "execution_count": null,
   "id": "9141bef1",
   "metadata": {},
   "outputs": [],
   "source": []
  },
  {
   "cell_type": "code",
   "execution_count": null,
   "id": "dac34e0a",
   "metadata": {},
   "outputs": [],
   "source": [
    "10)"
   ]
  },
  {
   "cell_type": "code",
   "execution_count": 12,
   "id": "3cbe78d7",
   "metadata": {},
   "outputs": [
    {
     "name": "stdout",
     "output_type": "stream",
     "text": [
      "c\n",
      "o\n",
      "o\n"
     ]
    }
   ],
   "source": [
    "for c in 'cool':\n",
    "    if c == 'l':\n",
    "        break\n",
    "    print(c)"
   ]
  },
  {
   "cell_type": "code",
   "execution_count": null,
   "id": "5ddfa6f0",
   "metadata": {},
   "outputs": [],
   "source": [
    "while using break, if our specified condition not met, that break will stop executing the iteration."
   ]
  },
  {
   "cell_type": "code",
   "execution_count": 14,
   "id": "41d55973",
   "metadata": {},
   "outputs": [
    {
     "name": "stdout",
     "output_type": "stream",
     "text": [
      "c\n",
      "l\n"
     ]
    }
   ],
   "source": [
    "for c in 'cool':\n",
    "    if c == 'o':\n",
    "        continue\n",
    "    print(c)"
   ]
  },
  {
   "cell_type": "code",
   "execution_count": null,
   "id": "b3267616",
   "metadata": {},
   "outputs": [],
   "source": [
    "while using continue, if our specified condition not met, that continue will keep on executing the iteration. it will\n",
    "skip the specified condition's execution"
   ]
  },
  {
   "cell_type": "code",
   "execution_count": null,
   "id": "d041b097",
   "metadata": {},
   "outputs": [],
   "source": []
  },
  {
   "cell_type": "code",
   "execution_count": null,
   "id": "10d455f6",
   "metadata": {},
   "outputs": [],
   "source": [
    "11)"
   ]
  },
  {
   "cell_type": "code",
   "execution_count": 4,
   "id": "5cb3becb",
   "metadata": {},
   "outputs": [
    {
     "name": "stdout",
     "output_type": "stream",
     "text": [
      "0\n",
      "1\n",
      "2\n",
      "3\n",
      "4\n",
      "5\n",
      "6\n",
      "7\n",
      "8\n",
      "9\n"
     ]
    }
   ],
   "source": [
    "for i in range(10):\n",
    "    print(i)"
   ]
  },
  {
   "cell_type": "code",
   "execution_count": null,
   "id": "a4c9a453",
   "metadata": {},
   "outputs": [],
   "source": [
    "From the above, by default, it will take elements from 0 to 9, totally 10 elements, and we gave only stop value inside \n",
    "the range"
   ]
  },
  {
   "cell_type": "code",
   "execution_count": 6,
   "id": "53d46194",
   "metadata": {},
   "outputs": [
    {
     "name": "stdout",
     "output_type": "stream",
     "text": [
      "0\n",
      "1\n",
      "2\n",
      "3\n",
      "4\n",
      "5\n",
      "6\n",
      "7\n",
      "8\n",
      "9\n"
     ]
    }
   ],
   "source": [
    "for i in range(0,10):\n",
    "    print(i)"
   ]
  },
  {
   "cell_type": "code",
   "execution_count": null,
   "id": "c7de80b8",
   "metadata": {},
   "outputs": [],
   "source": [
    "From, the above, we can customisely give element's starting and ending value,\n",
    "\n",
    "based on starting number, we will get results\n",
    "range(start, end)\n",
    "starts from zero, and ends with end-1 from the end value"
   ]
  },
  {
   "cell_type": "code",
   "execution_count": null,
   "id": "d9cf93af",
   "metadata": {},
   "outputs": [],
   "source": [
    "example:"
   ]
  },
  {
   "cell_type": "code",
   "execution_count": 9,
   "id": "affe6e56",
   "metadata": {},
   "outputs": [
    {
     "data": {
      "text/plain": [
       "[5, 6, 7, 8, 9]"
      ]
     },
     "execution_count": 9,
     "metadata": {},
     "output_type": "execute_result"
    }
   ],
   "source": [
    "list(range(5,10))"
   ]
  },
  {
   "cell_type": "code",
   "execution_count": 7,
   "id": "0edba009",
   "metadata": {
    "scrolled": true
   },
   "outputs": [
    {
     "name": "stdout",
     "output_type": "stream",
     "text": [
      "0\n",
      "1\n",
      "2\n",
      "3\n",
      "4\n",
      "5\n",
      "6\n",
      "7\n",
      "8\n",
      "9\n"
     ]
    }
   ],
   "source": [
    "for i in range(0,10,1):\n",
    "    print(i)"
   ]
  },
  {
   "cell_type": "code",
   "execution_count": null,
   "id": "34de7111",
   "metadata": {},
   "outputs": [],
   "source": [
    "From, the above, we can give element's start, end and step value, based on step value, we will get results.\n",
    "range(start, end, step)\n",
    "step value can be positive or negative."
   ]
  },
  {
   "cell_type": "code",
   "execution_count": 8,
   "id": "06462821",
   "metadata": {},
   "outputs": [
    {
     "data": {
      "text/plain": [
       "[0, 2, 4, 6, 8]"
      ]
     },
     "execution_count": 8,
     "metadata": {},
     "output_type": "execute_result"
    }
   ],
   "source": [
    "list(range(0,10,2))"
   ]
  },
  {
   "cell_type": "code",
   "execution_count": null,
   "id": "02654c40",
   "metadata": {},
   "outputs": [],
   "source": [
    "12)"
   ]
  },
  {
   "cell_type": "code",
   "execution_count": 10,
   "id": "fe96ced9",
   "metadata": {},
   "outputs": [
    {
     "name": "stdout",
     "output_type": "stream",
     "text": [
      "1\n",
      "2\n",
      "3\n",
      "4\n",
      "5\n",
      "6\n",
      "7\n",
      "8\n",
      "9\n",
      "10\n"
     ]
    }
   ],
   "source": [
    "b = 11\n",
    "for i in list(range(1,b)):\n",
    "    print (i)"
   ]
  },
  {
   "cell_type": "code",
   "execution_count": 2,
   "id": "b9d49935",
   "metadata": {},
   "outputs": [
    {
     "name": "stdout",
     "output_type": "stream",
     "text": [
      "1\n",
      "2\n",
      "3\n",
      "4\n",
      "5\n",
      "6\n",
      "7\n",
      "8\n",
      "9\n",
      "10\n"
     ]
    }
   ],
   "source": [
    "a = 1\n",
    "while(a<=10):\n",
    "    print(a)\n",
    "    a = a+1"
   ]
  },
  {
   "cell_type": "code",
   "execution_count": null,
   "id": "e80e092d",
   "metadata": {},
   "outputs": [],
   "source": [
    "13)"
   ]
  },
  {
   "cell_type": "code",
   "execution_count": null,
   "id": "778e17c6",
   "metadata": {},
   "outputs": [],
   "source": [
    "spam.bacon()"
   ]
  },
  {
   "cell_type": "code",
   "execution_count": null,
   "id": "ee34a84a",
   "metadata": {},
   "outputs": [],
   "source": []
  }
 ],
 "metadata": {
  "kernelspec": {
   "display_name": "Python 3",
   "language": "python",
   "name": "python3"
  },
  "language_info": {
   "codemirror_mode": {
    "name": "ipython",
    "version": 3
   },
   "file_extension": ".py",
   "mimetype": "text/x-python",
   "name": "python",
   "nbconvert_exporter": "python",
   "pygments_lexer": "ipython3",
   "version": "3.8.8"
  }
 },
 "nbformat": 4,
 "nbformat_minor": 5
}
